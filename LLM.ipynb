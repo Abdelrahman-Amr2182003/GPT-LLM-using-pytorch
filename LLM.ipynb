{
 "cells": [
  {
   "cell_type": "code",
   "execution_count": 1,
   "id": "c606b661-59a6-4606-94f9-04e1866e1cf5",
   "metadata": {},
   "outputs": [
    {
     "name": "stdout",
     "output_type": "stream",
     "text": [
      "cuda\n"
     ]
    }
   ],
   "source": [
    "import torch\n",
    "device = 'cuda' if torch.cuda.is_available() else 'cpu'\n",
    "print(device)\n",
    "block_size = 8\n",
    "batch_size = 4"
   ]
  },
  {
   "cell_type": "code",
   "execution_count": 2,
   "id": "772eeb25-2b64-4cbe-b970-1328df95855f",
   "metadata": {},
   "outputs": [],
   "source": [
    "chars = \"\"\n",
    "with open(\"vocab.txt\", 'r', encoding='utf-8') as f:\n",
    "        text = f.read()\n",
    "        chars = sorted(list(set(text)))\n",
    "        \n",
    "vocab_size = len(chars)"
   ]
  },
  {
   "cell_type": "code",
   "execution_count": 3,
   "id": "b162a966-07b4-4b6f-93e0-627313e8832d",
   "metadata": {},
   "outputs": [],
   "source": [
    "string_to_int = {ch:i for i,ch in enumerate(chars)}\n",
    "int_to_string = {i:ch for i,ch in enumerate(chars)}"
   ]
  },
  {
   "cell_type": "code",
   "execution_count": 4,
   "id": "a05704cb-b38a-4ac3-be16-b7a3099e1a42",
   "metadata": {},
   "outputs": [],
   "source": [
    "def encode(text):\n",
    "    return [string_to_int[i] for i in text]\n",
    "def decode(numbers):\n",
    "    return ''.join([int_to_string[i] for i in numbers])"
   ]
  },
  {
   "cell_type": "code",
   "execution_count": 5,
   "id": "669e9671-5d85-4eff-82d4-0492fd4a22ab",
   "metadata": {},
   "outputs": [
    {
     "data": {
      "text/plain": [
       "'Hello'"
      ]
     },
     "execution_count": 5,
     "metadata": {},
     "output_type": "execute_result"
    }
   ],
   "source": [
    "decode(encode(\"Hello\"))"
   ]
  },
  {
   "cell_type": "code",
   "execution_count": 6,
   "id": "3f63224e-98d8-453b-a79b-90b7e729450e",
   "metadata": {},
   "outputs": [],
   "source": [
    "import torch.nn as nn\n",
    "import torch.nn.functional as F\n",
    "import mmap\n",
    "import random\n",
    "import pickle\n",
    "import argparse"
   ]
  },
  {
   "cell_type": "code",
   "execution_count": 7,
   "id": "25e1404d-cec7-408e-b0d1-2d139ff338bb",
   "metadata": {},
   "outputs": [],
   "source": [
    "# memory map for using small snippets of text from a single file of any size\n",
    "def get_random_chunk(split='train'):\n",
    "    filename = \"train_split.txt\" if split == 'train' else \"val_split.txt\"\n",
    "    with open(filename, 'rb') as f:\n",
    "        with mmap.mmap(f.fileno(), 0, access=mmap.ACCESS_READ) as mm:\n",
    "            # Determine the file size and a random position to start reading\n",
    "            file_size = len(mm)\n",
    "            start_pos = random.randint(0, (file_size) - block_size*batch_size)\n",
    "\n",
    "            # Seek to the random position and read the block of text\n",
    "            mm.seek(start_pos)\n",
    "            block = mm.read(block_size*batch_size-1)\n",
    "\n",
    "            # Decode the block to a string, ignoring any invalid byte sequences\n",
    "            decoded_block = block.decode('utf-8', errors='ignore').replace('\\r', '')\n",
    "            \n",
    "            # Train and test splits\n",
    "            data = torch.tensor(encode(decoded_block), dtype=torch.long)\n",
    "            \n",
    "    return data\n",
    "\n",
    "\n",
    "def get_batch(split='train'):\n",
    "    data = get_random_chunk(split)\n",
    "    ix = torch.randint(len(data) - block_size, (batch_size,))\n",
    "    x = torch.stack([data[i:i+block_size] for i in ix])\n",
    "    y = torch.stack([data[i+1:i+block_size+1] for i in ix])\n",
    "    x, y = x.to(device), y.to(device)\n",
    "    return x, y"
   ]
  },
  {
   "cell_type": "code",
   "execution_count": 8,
   "id": "cebc3634-a7ad-448f-8a62-22c3c496fd3a",
   "metadata": {},
   "outputs": [],
   "source": [
    "x,y = get_batch()\n"
   ]
  },
  {
   "cell_type": "code",
   "execution_count": 9,
   "id": "7bd97171-ebd0-4e5b-998c-60f943bae625",
   "metadata": {},
   "outputs": [],
   "source": [
    "class BiagramLanguageModel(nn.Module):\n",
    "    def __init__(self,vocab_size):\n",
    "        super().__init__()\n",
    "        self.token_embeddings = nn.Embedding(vocab_size,vocab_size)\n",
    "    def forward(self,index,targets=None):\n",
    "        logits = self.token_embeddings(index)\n",
    "        if targets is None:\n",
    "            loss = None\n",
    "        else:\n",
    "            B,T,C  = logits.shape\n",
    "            logits = logits.view(B*T,C)\n",
    "            targets = targets.view(B*T)\n",
    "            loss = F.cross_entropy(logits,targets)\n",
    "        return logits,loss\n",
    "    def genrate(self,index,max_tokens):\n",
    "        for _ in range(max_tokens):\n",
    "            logits,loss = self.forward(index)\n",
    "            logits = logits[:,-1,:]\n",
    "            probs = F.softmax(logits,dim=-1)\n",
    "            index_next = torch.multinomial(probs,num_samples=1)\n",
    "            index = torch.cat((index,index_next),dim=1)\n",
    "        return index"
   ]
  },
  {
   "cell_type": "code",
   "execution_count": 10,
   "id": "7bd7c185-0b3a-4e99-9d57-0c25a6245572",
   "metadata": {},
   "outputs": [],
   "source": [
    "batch_size = 128\n",
    "block_size = 64\n",
    "max_iters = 1000\n",
    "learning_rate = 3e-4\n",
    "eval_iters = 100\n",
    "n_embd = 384\n",
    "n_head = 8\n",
    "n_layer = 8\n",
    "dropout = 0.2"
   ]
  },
  {
   "cell_type": "code",
   "execution_count": 11,
   "id": "357149bf-c804-41c0-8dc5-c22bfac8fc04",
   "metadata": {},
   "outputs": [],
   "source": [
    "\n",
    "\n",
    "class Head(nn.Module):\n",
    "    \"\"\" one head of self-attention \"\"\"\n",
    "\n",
    "    def __init__(self, head_size):\n",
    "        super().__init__()\n",
    "        self.key = nn.Linear(n_embd, head_size, bias=False)\n",
    "        self.query = nn.Linear(n_embd, head_size, bias=False)\n",
    "        self.value = nn.Linear(n_embd, head_size, bias=False)\n",
    "        self.register_buffer('tril', torch.tril(torch.ones(block_size, block_size)))\n",
    "\n",
    "        self.dropout = nn.Dropout(dropout)\n",
    "\n",
    "    def forward(self, x):\n",
    "        # input of size (batch, time-step, channels)\n",
    "        # output of size (batch, time-step, head size)\n",
    "        B,T,C = x.shape\n",
    "        k = self.key(x)   # (B,T,hs)\n",
    "        q = self.query(x) # (B,T,hs)\n",
    "        # compute attention scores (\"affinities\")\n",
    "        wei = q @ k.transpose(-2,-1) * k.shape[-1]**-0.5 # (B, T, hs) @ (B, hs, T) -> (B, T, T)\n",
    "        wei = wei.masked_fill(self.tril[:T, :T] == 0, float('-inf')) # (B, T, T)\n",
    "        wei = F.softmax(wei, dim=-1) # (B, T, T)\n",
    "        wei = self.dropout(wei)\n",
    "        # perform the weighted aggregation of the values\n",
    "        v = self.value(x) # (B,T,hs)\n",
    "        out = wei @ v # (B, T, T) @ (B, T, hs) -> (B, T, hs)\n",
    "        return out\n",
    "\n",
    "# [1, 0, 0]\n",
    "# [1, 0.6, 0]\n",
    "# [1, 0.6, 0.4]\n",
    "class MultiHeadAttention(nn.Module):\n",
    "    \"\"\" multiple heads of self-attention in parallel \"\"\"\n",
    "\n",
    "    def __init__(self, num_heads, head_size):\n",
    "        super().__init__()\n",
    "        self.heads = nn.ModuleList([Head(head_size) for _ in range(num_heads)])\n",
    "        self.proj = nn.Linear(head_size * num_heads, n_embd)\n",
    "        self.dropout = nn.Dropout(dropout)\n",
    "\n",
    "    def forward(self, x):\n",
    "        out = torch.cat([h(x) for h in self.heads], dim=-1) # (B, T, F) -> (B, T, [h1, h1, h1, h1, h2, h2, h2, h2, h3, h3, h3, h3])\n",
    "        out = self.dropout(self.proj(out))\n",
    "        return out\n",
    "    \n",
    "\n",
    "class FeedFoward(nn.Module):\n",
    "    \"\"\" a simple linear layer followed by a non-linearity \"\"\"\n",
    "\n",
    "    def __init__(self, n_embd):\n",
    "        super().__init__()\n",
    "        self.net = nn.Sequential(\n",
    "            nn.Linear(n_embd, 4 * n_embd),\n",
    "            nn.ReLU(),\n",
    "            nn.Linear(4 * n_embd, n_embd),\n",
    "            nn.Dropout(dropout),\n",
    "        )\n",
    "\n",
    "    def forward(self, x):\n",
    "        return self.net(x)\n",
    "    \n",
    "class Block(nn.Module):\n",
    "    \"\"\" Transformer block: communication followed by computation \"\"\"\n",
    "\n",
    "    def __init__(self, n_embd, n_head):\n",
    "        # n_embd: embedding dimension, n_head: the number of heads we'd like\n",
    "        super().__init__()\n",
    "        head_size = n_embd // n_head\n",
    "        self.sa = MultiHeadAttention(n_head, head_size)\n",
    "        self.ffwd = FeedFoward(n_embd)\n",
    "        self.ln1 = nn.LayerNorm(n_embd)\n",
    "        self.ln2 = nn.LayerNorm(n_embd)\n",
    "\n",
    "    def forward(self, x):\n",
    "        y = self.sa(x)\n",
    "        x = self.ln1(x + y)\n",
    "        y = self.ffwd(x)\n",
    "        x = self.ln2(x + y)\n",
    "        return x\n",
    "    \n",
    "class GPTLanguageModel(nn.Module):\n",
    "    def __init__(self, vocab_size):\n",
    "        super().__init__()\n",
    "        self.token_embedding_table = nn.Embedding(vocab_size, n_embd)\n",
    "        self.position_embedding_table = nn.Embedding(block_size, n_embd)\n",
    "        self.blocks = nn.Sequential(*[Block(n_embd, n_head=n_head) for _ in range(n_layer)])\n",
    "        self.ln_f = nn.LayerNorm(n_embd) # final layer norm\n",
    "        self.lm_head = nn.Linear(n_embd, vocab_size)\n",
    "        \n",
    "        \n",
    "        self.apply(self._init_weights)\n",
    "\n",
    "    def _init_weights(self, module):\n",
    "        if isinstance(module, nn.Linear):\n",
    "            torch.nn.init.normal_(module.weight, mean=0.0, std=0.02)\n",
    "            if module.bias is not None:\n",
    "                torch.nn.init.zeros_(module.bias)\n",
    "        elif isinstance(module, nn.Embedding):\n",
    "            torch.nn.init.normal_(module.weight, mean=0.0, std=0.02)\n",
    "\n",
    "    def forward(self, index, targets=None):\n",
    "        #print(index.shape)\n",
    "        B, T = index.shape\n",
    "        \n",
    "        \n",
    "        # idx and targets are both (B,T) tensor of integers\n",
    "        tok_emb = self.token_embedding_table(index) # (B,T,C)\n",
    "        pos_emb = self.position_embedding_table(torch.arange(T, device=device)) # (T,C)\n",
    "        x = tok_emb + pos_emb # (B,T,C)\n",
    "        x = self.blocks(x) # (B,T,C)\n",
    "        x = self.ln_f(x) # (B,T,C)\n",
    "        logits = self.lm_head(x) # (B,T,vocab_size)\n",
    "        \n",
    "        if targets is None:\n",
    "            loss = None\n",
    "        else:\n",
    "            B, T, C = logits.shape\n",
    "            logits = logits.view(B*T, C)\n",
    "            targets = targets.view(B*T)\n",
    "            loss = F.cross_entropy(logits, targets)\n",
    "        \n",
    "        return logits, loss\n",
    "    \n",
    "    def generate(self, index, max_new_tokens):\n",
    "        # index is (B, T) array of indices in the current context\n",
    "        for _ in range(max_new_tokens):\n",
    "            # crop idx to the last block_size tokens\n",
    "            index_cond = index[:, -block_size:]\n",
    "            # get the predictions\n",
    "            logits, loss = self.forward(index_cond)\n",
    "            # focus only on the last time step\n",
    "            logits = logits[:, -1, :] # becomes (B, C)\n",
    "            # apply softmax to get probabilities\n",
    "            probs = F.softmax(logits, dim=-1) # (B, C)\n",
    "            # sample from the distribution\n",
    "            index_next = torch.multinomial(probs, num_samples=1) # (B, 1)\n",
    "            # append sampled index to the running sequence\n",
    "            index = torch.cat((index, index_next), dim=1) # (B, T+1)\n",
    "        return index\n"
   ]
  },
  {
   "cell_type": "code",
   "execution_count": 12,
   "id": "dea90e82-90c2-4103-b579-56338dddd2d1",
   "metadata": {},
   "outputs": [],
   "source": [
    "Model = GPTLanguageModel(vocab_size)\n",
    "Model = Model.to(device)"
   ]
  },
  {
   "cell_type": "code",
   "execution_count": 13,
   "id": "5350ef66-12ed-4fcf-b531-9c7bc010c0ca",
   "metadata": {},
   "outputs": [],
   "source": [
    "@torch.no_grad()\n",
    "def estimate_loss(model,eval_iters=20):\n",
    "    model.eval()\n",
    "    out = {}\n",
    "    losses = torch.zeros(eval_iters)\n",
    "    for split in ['train','val']:\n",
    "        for k in range(eval_iters):\n",
    "            x,y = get_batch(split)\n",
    "            logits,loss = model(x,y)\n",
    "            losses[k] = loss.item()\n",
    "        out[split] = losses.mean()\n",
    "    model.train()\n",
    "    return out\n",
    "    \n",
    "def fit(model,max_iters):\n",
    "    optimzer = torch.optim.AdamW(model.parameters(),lr = 0.001)\n",
    "    for iters in range(max_iters):\n",
    "        if iters % 250==0:\n",
    "            losses = estimate_loss(model)\n",
    "            print(losses)\n",
    "        xb,yb = get_batch(\"train\")\n",
    "        logits,loss = model.forward(xb,yb)\n",
    "        optimzer.zero_grad()\n",
    "        loss.backward()\n",
    "        optimzer.step()\n",
    "    print(loss.item())\n",
    "    torch.save(model.state_dict(), 'model_weights.pth')\n",
    "        "
   ]
  },
  {
   "cell_type": "code",
   "execution_count": 16,
   "id": "0e27117e-3125-44af-b3a1-3d0188b066cf",
   "metadata": {},
   "outputs": [
    {
     "name": "stdout",
     "output_type": "stream",
     "text": [
      "{'train': tensor(3.2143), 'val': tensor(3.2505)}\n",
      "{'train': tensor(3.2276), 'val': tensor(3.2099)}\n",
      "{'train': tensor(3.2112), 'val': tensor(3.2559)}\n",
      "{'train': tensor(3.3272), 'val': tensor(3.3591)}\n",
      "{'train': tensor(3.2673), 'val': tensor(3.2437)}\n",
      "{'train': tensor(3.6051), 'val': tensor(3.2723)}\n",
      "{'train': tensor(3.3976), 'val': tensor(3.2977)}\n",
      "{'train': tensor(3.2806), 'val': tensor(3.2074)}\n",
      "{'train': tensor(3.1751), 'val': tensor(3.4162)}\n",
      "{'train': tensor(3.2472), 'val': tensor(3.1788)}\n",
      "{'train': tensor(3.2301), 'val': tensor(3.1939)}\n",
      "{'train': tensor(3.2333), 'val': tensor(3.2066)}\n",
      "{'train': tensor(3.2511), 'val': tensor(3.1892)}\n",
      "{'train': tensor(3.2359), 'val': tensor(3.2439)}\n",
      "{'train': tensor(3.2022), 'val': tensor(3.2343)}\n",
      "{'train': tensor(3.2370), 'val': tensor(3.2730)}\n",
      "{'train': tensor(3.2584), 'val': tensor(3.2652)}\n",
      "{'train': tensor(3.6012), 'val': tensor(3.2180)}\n",
      "{'train': tensor(3.2531), 'val': tensor(3.2682)}\n",
      "{'train': tensor(3.2893), 'val': tensor(3.8393)}\n",
      "{'train': tensor(3.3609), 'val': tensor(3.2377)}\n",
      "{'train': tensor(3.1838), 'val': tensor(3.2375)}\n",
      "{'train': tensor(3.2335), 'val': tensor(3.2388)}\n",
      "{'train': tensor(3.2492), 'val': tensor(3.2673)}\n",
      "{'train': tensor(3.2679), 'val': tensor(3.3940)}\n",
      "{'train': tensor(3.2119), 'val': tensor(3.1991)}\n",
      "{'train': tensor(3.2632), 'val': tensor(3.3380)}\n",
      "{'train': tensor(3.2381), 'val': tensor(3.2099)}\n",
      "{'train': tensor(3.2575), 'val': tensor(3.2230)}\n",
      "{'train': tensor(3.2333), 'val': tensor(3.3729)}\n",
      "{'train': tensor(3.2355), 'val': tensor(3.2577)}\n",
      "{'train': tensor(3.1880), 'val': tensor(3.3056)}\n",
      "{'train': tensor(3.2089), 'val': tensor(3.3128)}\n",
      "{'train': tensor(3.2684), 'val': tensor(3.2185)}\n",
      "{'train': tensor(3.2330), 'val': tensor(3.3010)}\n",
      "{'train': tensor(3.2753), 'val': tensor(3.1964)}\n",
      "{'train': tensor(3.2053), 'val': tensor(3.2559)}\n",
      "{'train': tensor(3.2176), 'val': tensor(3.2237)}\n",
      "{'train': tensor(3.2747), 'val': tensor(3.2885)}\n",
      "{'train': tensor(3.2349), 'val': tensor(3.2854)}\n",
      "3.517711877822876\n"
     ]
    }
   ],
   "source": [
    "fit(Model,10000)"
   ]
  },
  {
   "cell_type": "code",
   "execution_count": 18,
   "id": "8796833a-ec34-498a-9bd7-c72378f8c9c3",
   "metadata": {},
   "outputs": [
    {
     "data": {
      "text/plain": [
       "<All keys matched successfully>"
      ]
     },
     "execution_count": 18,
     "metadata": {},
     "output_type": "execute_result"
    }
   ],
   "source": [
    "Model = GPTLanguageModel(vocab_size)\n",
    "Model = Model.to(device)\n",
    "Model.load_state_dict(torch.load(\"model_weights.pth\"))"
   ]
  },
  {
   "cell_type": "code",
   "execution_count": null,
   "id": "4386da73-b972-4a5a-b13e-4101ccb8713b",
   "metadata": {},
   "outputs": [],
   "source": [
    "while True:\n",
    "    prompt = input(\"Prompt:\\n\")\n",
    "    context = torch.tensor(encode(prompt), dtype=torch.long, device=device)\n",
    "    generated_chars = decode(Model.generate(context.unsqueeze(0), max_new_tokens=150)[0].tolist())\n",
    "    print(f'Completion:\\n{generated_chars}')"
   ]
  },
  {
   "cell_type": "code",
   "execution_count": null,
   "id": "77905ed3-5508-4a21-a21b-35feb9d8ba0e",
   "metadata": {},
   "outputs": [],
   "source": []
  }
 ],
 "metadata": {
  "kernelspec": {
   "display_name": "Python 3 (ipykernel)",
   "language": "python",
   "name": "python3"
  },
  "language_info": {
   "codemirror_mode": {
    "name": "ipython",
    "version": 3
   },
   "file_extension": ".py",
   "mimetype": "text/x-python",
   "name": "python",
   "nbconvert_exporter": "python",
   "pygments_lexer": "ipython3",
   "version": "3.11.9"
  }
 },
 "nbformat": 4,
 "nbformat_minor": 5
}
